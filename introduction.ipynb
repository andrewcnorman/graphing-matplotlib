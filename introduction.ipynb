{
 "cells": [
  {
   "cell_type": "markdown",
   "metadata": {},
   "source": [
    "# Plotting graphs in Python: An introduction\n",
    "\n",
    "This is an introduction to plotting simple graphs of data in Python.  Very much the sort of thing you might want to do in a simple physics experiment."
   ]
  },
  {
   "cell_type": "markdown",
   "metadata": {},
   "source": [
    "#Introduction\n",
    "\n",
    "```matplotlib``` is an excellent library for generating scientific figures. Some of the many advantages of this library include:\n",
    "\n",
    "* Easy to get started\n",
    "* Support for $\\LaTeX$ formatted labels and texts\n",
    "* Great control of every element in a figure, including figure size and DPI. \n",
    "* High-quality output in many formats, including PNG, PDF, SVG, EPS, and PGF.\n",
    "\n",
    "One of the key features of matplotlib that I would like to emphasize, and that I think makes matplotlib highly suitable for generating figures for scientific publications is that all aspects of the figure can be controlled *programmatically*. This is important for reproducibility and convenient when one needs to regenerate the figure with updated data or change its appearance. \n",
    "\n",
    "More information at the [Matplotlib web page](http://matplotlib.org/).\n",
    "\n",
    "To get started using matplotlib in a Python program, import the `matplotlib.pyplot` module under the name `plt`:"
   ]
  },
  {
   "cell_type": "code",
   "execution_count": 1,
   "metadata": {
    "collapsed": true
   },
   "outputs": [],
   "source": [
    "import matplotlib.pyplot as plt\n",
    "import numpy as np"
   ]
  },
  {
   "cell_type": "markdown",
   "metadata": {},
   "source": [
    "## Getting your data\n",
    "\n",
    "Now we need some data to plot.  matplotlib expects to plot numpy arrays, so we need to shovel our data into these.\n",
    "\n",
    "We'll start with some simple data of the angles of incidence and refraction for light entering glass:\n",
    "\n",
    "| $\\theta_\\mathrm{i}~/~^\\circ$ | $\\theta_\\mathrm{r}~/~^\\circ$ |\n",
    "| -- | -- |\n",
    "| 14.0 | 9.0 |\n",
    "| 35.0 | 21.5 |\n",
    "| 49.0 | 29.0 |\n",
    "| 59.0 | 33.0 |\n",
    "| 69.5 | 37.5 |\n",
    "| 88.0 | 39.5 |\n",
    "\n",
    "Now let's put these into numpy arrays:"
   ]
  },
  {
   "cell_type": "code",
   "execution_count": 2,
   "metadata": {},
   "outputs": [
    {
     "name": "stdout",
     "output_type": "stream",
     "text": [
      "[ 14.   35.   49.   59.   69.5  88. ]\n",
      "[  9.   21.5  29.   33.   37.5  39.5]\n"
     ]
    }
   ],
   "source": [
    "incidence = np.array ([14.0, 35.0, 49.0, 59.0, 69.5, 88.0])\n",
    "refraction = np.array ([9.0, 21.5, 29.0, 33.0, 37.5, 39.5])\n",
    "print(incidence)\n",
    "print(refraction)"
   ]
  },
  {
   "cell_type": "markdown",
   "metadata": {},
   "source": [
    "## Plotting\n",
    "\n",
    "We create our graph in the matplotlib `figure` environment.  The figure we produce is put into the variable `fig`, and within that we create our axes (we'll put these into the variable `ax`, so that we can operate on the axes object we have created later)."
   ]
  },
  {
   "cell_type": "code",
   "execution_count": 3,
   "metadata": {},
   "outputs": [
    {
     "data": {
      "image/png": "[encoded data removed]",
      "text/plain": [
       "<matplotlib.figure.Figure at 0xaec3d36c>"
      ]
     },
     "metadata": {},
     "output_type": "display_data"
    }
   ],
   "source": [
    "fig = plt.figure()\n",
    "\n",
    "ax = fig.add_subplot(111)\n",
    "\n",
    "ax.plot(incidence, refraction, 'b+')\n",
    "\n",
    "plt.show()"
   ]
  },
  {
   "cell_type": "markdown",
   "metadata": {},
   "source": [
    "### Labelling axes\n",
    "\n",
    "Of course, we *always* want axis labels.  Matplotlib has great support for $\\LaTeX$. All we need to do is to use dollar signs encapsulate $\\LaTeX$ in any text (legend, title, label, etc.). For example, ```$y=x^3$``` would produce $y=x^3$.\n",
    "\n",
    "But here we can run into a slightly subtle problem with $\\LaTeX$ code and Python text strings. In $\\LaTeX$, we frequently use the backslash in commands, for example ```\\alpha``` to produce the symbol $\\alpha$. But the backslash already has a meaning in Python strings (the escape code character). To avoid Python messing up our latex code, we need to use \"raw\" text strings. Raw text strings are prepended with an ```r```, like ```r\"\\alpha\"``` or ```r'\\alpha'``` instead of ```\"\\alpha\"``` or ```'\\alpha'```:"
   ]
  },
  {
   "cell_type": "code",
   "execution_count": 4,
   "metadata": {},
   "outputs": [
    {
     "data": {
      "image/png": "[encoded data removed]",
      "text/plain": [
       "<matplotlib.figure.Figure at 0xaea43a8c>"
      ]
     },
     "metadata": {},
     "output_type": "display_data"
    }
   ],
   "source": [
    "fig = plt.figure()\n",
    "ax = fig.add_subplot(111)\n",
    "\n",
    "ax.set_xlabel(r'$\\theta_\\mathrm{i}\\,/\\,^\\circ$')\n",
    "ax.set_ylabel(r'$\\theta_\\mathrm{r}\\,/\\,^\\circ$')\n",
    "ax.set_title('Refraction of light entering glass')\n",
    "\n",
    "ax.plot(incidence, refraction, 'b+')\n",
    "\n",
    "plt.show()"
   ]
  },
  {
   "cell_type": "markdown",
   "metadata": {},
   "source": [
    "### Axis ranges\n",
    "\n",
    "In this particular example of refraction, it's a good idea to show the origin on the graph, so we need to adjust the ranges of the axes."
   ]
  },
  {
   "cell_type": "code",
   "execution_count": 5,
   "metadata": {},
   "outputs": [
    {
     "data": {
      "image/png": "[encoded data removed]",
      "text/plain": [
       "<matplotlib.figure.Figure at 0xad1d4bcc>"
      ]
     },
     "metadata": {},
     "output_type": "display_data"
    }
   ],
   "source": [
    "fig = plt.figure()\n",
    "ax = fig.add_subplot(111)\n",
    "\n",
    "ax.plot(incidence, refraction, 'b+')\n",
    "\n",
    "ax.set_ylim(bottom=0) # note this has to come after plotting of data\n",
    "ax.set_xlim(0,90)\n",
    "\n",
    "ax.set_xlabel(r'$\\theta_\\mathrm{i}\\,/\\,^\\circ$')\n",
    "ax.set_ylabel(r'$\\theta_\\mathrm{r}\\,/\\,^\\circ$')\n",
    "ax.set_title('Refraction of light entering glass')\n",
    "\n",
    "plt.show()"
   ]
  },
  {
   "cell_type": "markdown",
   "metadata": {},
   "source": [
    "## Data manipulation\n",
    "\n",
    "Python is of course very good when it comes to processing your data.  In this particular case, a sensible thing would be to use our experimental data to test Snell's law,\n",
    "$$n=\\frac{\\sin\\theta_\\mathrm{i}}{\\sin\\theta_\\mathrm{r}}.$$\n",
    "\n",
    "A graph of $\\sin\\theta_\\mathrm{r}$ on the $y$-axis against $\\sin\\theta_\\mathrm{i}$ on the $x$-axis should be a straight line going through the origin, with gradient of $\\frac{1}{n}$.\n",
    "\n",
    "Note that the ```sin()``` function in the numpy package expects its argument to be in radians.  Fortunately, there is a function in numpy which will do the conversion: ```deg2rad()```."
   ]
  },
  {
   "cell_type": "code",
   "execution_count": 6,
   "metadata": {},
   "outputs": [
    {
     "data": {
      "image/png": "[encoded data removed]",
      "text/plain": [
       "<matplotlib.figure.Figure at 0xad11ae6c>"
      ]
     },
     "metadata": {},
     "output_type": "display_data"
    }
   ],
   "source": [
    "fig = plt.figure()\n",
    "ax = fig.add_subplot(111)\n",
    "\n",
    "ax.plot(np.sin(np.deg2rad(incidence)), np.sin(np.deg2rad(refraction)), 'b+')\n",
    "\n",
    "ax.set_ylim(bottom=0) # note this has to come after plotting of data\n",
    "ax.set_xlim(0,1)\n",
    "\n",
    "ax.set_xlabel(r'$\\sin(\\theta_\\mathrm{i}\\,/\\,^\\circ)$')\n",
    "ax.set_ylabel(r'$\\sin(\\theta_\\mathrm{r}\\,/\\,^\\circ)$')\n",
    "ax.set_title(\"Testing Snell's law for light entering glass\")\n",
    "\n",
    "plt.show()"
   ]
  },
  {
   "cell_type": "markdown",
   "metadata": {},
   "source": [
    "## A linear fit\n",
    "\n",
    "Now it would be good to show the trend on our graph with a line of best fit.  In this case (and this is the most common type of fit you might want) the line is straight.\n",
    "\n",
    "Python can do a fit which minimizes the distance of the line from the points (this is known as least squares regression).\n",
    "\n",
    "Whilst there is a function ```polyfit(x,y,deg,...)``` in numpy, there is a specialized function for simple linear regression in the ```stats``` module of ```scipy```, a useful package for scientific work.  Here is how that function, ```lingress(x,y)```, might work for our data."
   ]
  },
  {
   "cell_type": "code",
   "execution_count": 7,
   "metadata": {},
   "outputs": [
    {
     "name": "stdout",
     "output_type": "stream",
     "text": [
      "The value of 1/n is  0.639576074518  +/-  0.00860467617687\n",
      "The value of n is  1.56 +/- 0.02\n"
     ]
    },
    {
     "data": {
      "image/png": "[encoded data removed]",
      "text/plain": [
       "<matplotlib.figure.Figure at 0xabe5750c>"
      ]
     },
     "metadata": {},
     "output_type": "display_data"
    }
   ],
   "source": [
    "from scipy import stats\n",
    "\n",
    "slope, intercept, r_value, p_value, std_err \\\n",
    "    = stats.linregress(np.sin(np.deg2rad(incidence)), np.sin(np.deg2rad(refraction)))\n",
    "\n",
    "print(\"The value of 1/n is \", slope, \" +/- \", std_err)\n",
    "print(\"The value of n is \", np.round(1/slope,2), \"+/-\", np.round(std_err/slope**2,2))\n",
    "\n",
    "fig = plt.figure()\n",
    "ax = fig.add_subplot(111)\n",
    "\n",
    "\n",
    "ax.set_ylim(0,0.7)\n",
    "ax.set_xlim(0,1)\n",
    "\n",
    "ax.set_xlabel(r'$\\sin(\\theta_\\mathrm{i}\\,/\\,^\\circ)$')\n",
    "ax.set_ylabel(r'$\\sin(\\theta_\\mathrm{r}\\,/\\,^\\circ)$')\n",
    "ax.set_title(\"Testing Snell's law for light entering glass\")\n",
    "\n",
    "x=np.linspace(0.0,1.0,10)\n",
    "\n",
    "ax.plot(np.sin(np.deg2rad(incidence)), np.sin(np.deg2rad(refraction)), 'k+', label='original data')\n",
    "ax.plot(x, intercept + slope*x, 'k-', linewidth=1, label='fitted line')\n",
    "ax.legend(loc=2)\n",
    "ax.text(0.6, 0.25, r'$n=1.56\\pm 0.02$')\n",
    "\n",
    "plt.show()"
   ]
  },
  {
   "cell_type": "code",
   "execution_count": 8,
   "metadata": {},
   "outputs": [
    {
     "data": {
      "application/json": {
       "Software versions": [
        {
         "module": "Python",
         "version": "3.6.1 32bit [GCC 4.4.7 20120313 (Red Hat 4.4.7-1)]"
        },
        {
         "module": "IPython",
         "version": "5.3.0"
        },
        {
         "module": "OS",
         "version": "Linux 3.2.98 smp i686 Intel R _Pentium R _4_CPU_2.40GHz with slackware 14.0"
        },
        {
         "module": "numpy",
         "version": "1.12.1"
        },
        {
         "module": "matplotlib",
         "version": "2.0.2"
        },
        {
         "module": "scipy",
         "version": "0.19.0"
        }
       ]
      },
      "text/html": [
       "<table><tr><th>Software</th><th>Version</th></tr><tr><td>Python</td><td>3.6.1 32bit [GCC 4.4.7 20120313 (Red Hat 4.4.7-1)]</td></tr><tr><td>IPython</td><td>5.3.0</td></tr><tr><td>OS</td><td>Linux 3.2.98 smp i686 Intel R _Pentium R _4_CPU_2.40GHz with slackware 14.0</td></tr><tr><td>numpy</td><td>1.12.1</td></tr><tr><td>matplotlib</td><td>2.0.2</td></tr><tr><td>scipy</td><td>0.19.0</td></tr><tr><td colspan='2'>Sun Apr 15 23:46:03 2018 GMT</td></tr></table>"
      ],
      "text/latex": [
       "\\begin{tabular}{|l|l|}\\hline\n",
       "{\\bf Software} & {\\bf Version} \\\\ \\hline\\hline\n",
       "Python & 3.6.1 32bit [GCC 4.4.7 20120313 (Red Hat 4.4.7-1)] \\\\ \\hline\n",
       "IPython & 5.3.0 \\\\ \\hline\n",
       "OS & Linux 3.2.98 smp i686 Intel R \\_Pentium R \\_4\\_CPU\\_2.40GHz with slackware 14.0 \\\\ \\hline\n",
       "numpy & 1.12.1 \\\\ \\hline\n",
       "matplotlib & 2.0.2 \\\\ \\hline\n",
       "scipy & 0.19.0 \\\\ \\hline\n",
       "\\hline \\multicolumn{2}{|l|}{Sun Apr 15 23:46:03 2018 GMT} \\\\ \\hline\n",
       "\\end{tabular}\n"
      ],
      "text/plain": [
       "Software versions\n",
       "Python 3.6.1 32bit [GCC 4.4.7 20120313 (Red Hat 4.4.7-1)]\n",
       "IPython 5.3.0\n",
       "OS Linux 3.2.98 smp i686 Intel R _Pentium R _4_CPU_2.40GHz with slackware 14.0\n",
       "numpy 1.12.1\n",
       "matplotlib 2.0.2\n",
       "scipy 0.19.0\n",
       "Sun Apr 15 23:46:03 2018 GMT"
      ]
     },
     "execution_count": 8,
     "metadata": {},
     "output_type": "execute_result"
    }
   ],
   "source": [
    "%load_ext version_information\n",
    "\n",
    "%version_information numpy, matplotlib, scipy"
   ]
  }
 ],
 "metadata": {
  "kernelspec": {
   "display_name": "Python 3",
   "language": "python",
   "name": "python3"
  },
  "language_info": {
   "codemirror_mode": {
    "name": "ipython",
    "version": 3
   },
   "file_extension": ".py",
   "mimetype": "text/x-python",
   "name": "python",
   "nbconvert_exporter": "python",
   "pygments_lexer": "ipython3",
   "version": "3.6.1"
  }
 },
 "nbformat": 4,
 "nbformat_minor": 2
}
